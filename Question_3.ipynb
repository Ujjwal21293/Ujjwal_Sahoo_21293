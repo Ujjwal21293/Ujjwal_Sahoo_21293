{
  "nbformat": 4,
  "nbformat_minor": 0,
  "metadata": {
    "colab": {
      "provenance": []
    },
    "kernelspec": {
      "name": "python3",
      "display_name": "Python 3"
    },
    "language_info": {
      "name": "python"
    }
  },
  "cells": [
    {
      "cell_type": "code",
      "execution_count": 1,
      "metadata": {
        "colab": {
          "base_uri": "https://localhost:8080/"
        },
        "id": "KjL4htlpnHkk",
        "outputId": "c549e65a-cd9d-4011-b30c-721a3cf79dae"
      },
      "outputs": [
        {
          "output_type": "stream",
          "name": "stdout",
          "text": [
            "Downloading data from https://www.cs.toronto.edu/~kriz/cifar-10-python.tar.gz\n",
            "170498071/170498071 [==============================] - 4s 0us/step\n",
            "Epoch 1/20\n",
            "782/782 [==============================] - 10s 11ms/step - loss: 1.8511 - accuracy: 0.3262 - val_loss: 1.7436 - val_accuracy: 0.3734\n",
            "Epoch 2/20\n",
            "782/782 [==============================] - 7s 9ms/step - loss: 1.6688 - accuracy: 0.4000 - val_loss: 1.6235 - val_accuracy: 0.4238\n",
            "Epoch 3/20\n",
            "782/782 [==============================] - 8s 10ms/step - loss: 1.5955 - accuracy: 0.4272 - val_loss: 1.5503 - val_accuracy: 0.4448\n",
            "Epoch 4/20\n",
            "782/782 [==============================] - 7s 9ms/step - loss: 1.5444 - accuracy: 0.4464 - val_loss: 1.5566 - val_accuracy: 0.4476\n",
            "Epoch 5/20\n",
            "782/782 [==============================] - 8s 10ms/step - loss: 1.4964 - accuracy: 0.4649 - val_loss: 1.5298 - val_accuracy: 0.4488\n",
            "Epoch 6/20\n",
            "782/782 [==============================] - 8s 10ms/step - loss: 1.4710 - accuracy: 0.4748 - val_loss: 1.4885 - val_accuracy: 0.4675\n",
            "Epoch 7/20\n",
            "782/782 [==============================] - 7s 9ms/step - loss: 1.4418 - accuracy: 0.4832 - val_loss: 1.4655 - val_accuracy: 0.4791\n",
            "Epoch 8/20\n",
            "782/782 [==============================] - 8s 10ms/step - loss: 1.4204 - accuracy: 0.4927 - val_loss: 1.4529 - val_accuracy: 0.4825\n",
            "Epoch 9/20\n",
            "782/782 [==============================] - 7s 9ms/step - loss: 1.3982 - accuracy: 0.4981 - val_loss: 1.4469 - val_accuracy: 0.4902\n",
            "Epoch 10/20\n",
            "782/782 [==============================] - 8s 10ms/step - loss: 1.3750 - accuracy: 0.5100 - val_loss: 1.4672 - val_accuracy: 0.4805\n",
            "Epoch 11/20\n",
            "782/782 [==============================] - 8s 10ms/step - loss: 1.3573 - accuracy: 0.5137 - val_loss: 1.4345 - val_accuracy: 0.4885\n",
            "Epoch 12/20\n",
            "782/782 [==============================] - 7s 9ms/step - loss: 1.3354 - accuracy: 0.5207 - val_loss: 1.4618 - val_accuracy: 0.4807\n",
            "Epoch 13/20\n",
            "782/782 [==============================] - 8s 10ms/step - loss: 1.3234 - accuracy: 0.5246 - val_loss: 1.4257 - val_accuracy: 0.4949\n",
            "Epoch 14/20\n",
            "782/782 [==============================] - 9s 12ms/step - loss: 1.3127 - accuracy: 0.5292 - val_loss: 1.4553 - val_accuracy: 0.4911\n",
            "Epoch 15/20\n",
            "782/782 [==============================] - 9s 12ms/step - loss: 1.2946 - accuracy: 0.5329 - val_loss: 1.4685 - val_accuracy: 0.4855\n",
            "Epoch 16/20\n",
            "782/782 [==============================] - 10s 13ms/step - loss: 1.2808 - accuracy: 0.5401 - val_loss: 1.4549 - val_accuracy: 0.4870\n",
            "Epoch 17/20\n",
            "782/782 [==============================] - 10s 12ms/step - loss: 1.2670 - accuracy: 0.5478 - val_loss: 1.4105 - val_accuracy: 0.5027\n",
            "Epoch 18/20\n",
            "782/782 [==============================] - 9s 12ms/step - loss: 1.2513 - accuracy: 0.5474 - val_loss: 1.4722 - val_accuracy: 0.4931\n",
            "Epoch 19/20\n",
            "782/782 [==============================] - 9s 12ms/step - loss: 1.2400 - accuracy: 0.5530 - val_loss: 1.4343 - val_accuracy: 0.5032\n",
            "Epoch 20/20\n",
            "782/782 [==============================] - 10s 12ms/step - loss: 1.2269 - accuracy: 0.5582 - val_loss: 1.4674 - val_accuracy: 0.4939\n",
            "313/313 [==============================] - 1s 4ms/step - loss: 1.4674 - accuracy: 0.4939\n",
            "Test Loss: 1.4673844575881958\n",
            "Test Accuracy: 0.49390000104904175\n"
          ]
        }
      ],
      "source": [
        "import tensorflow as tf\n",
        "from tensorflow.keras import layers, models\n",
        "\n",
        "def model1(input_shape, num_classes):\n",
        "    model=models.Sequential()\n",
        "    model.add(layers.Flatten(input_shape=input_shape))\n",
        "    model.add(layers.Dense(128, activation='relu'))\n",
        "    model.add(layers.Dense(128, activation='relu'))\n",
        "    model.add(layers.Dense(128, activation='relu'))\n",
        "    model.add(layers.Dense(num_classes, activation='softmax'))\n",
        "    return model\n",
        "\n",
        "def preprocess(images):\n",
        "    images=images / 255.0\n",
        "    return images\n",
        "\n",
        "(x_train, y_train), (x_test, y_test)=tf.keras.datasets.cifar10.load_data()\n",
        "x_train, x_test=preprocess(x_train), preprocess(x_test)\n",
        "\n",
        "input_shape=x_train.shape[1:]\n",
        "num_classes=len(set(y_train.flatten()))\n",
        "learning_rate=0.001\n",
        "batch=64\n",
        "epochs=20\n",
        "\n",
        "model=model1(input_shape, num_classes)\n",
        "model.compile(optimizer=tf.keras.optimizers.Adam(learning_rate),\n",
        "              loss='sparse_categorical_crossentropy',\n",
        "              metrics=['accuracy'])\n",
        "\n",
        "history=model.fit(x_train, y_train, batch_size=batch, epochs=epochs,\n",
        "                    validation_data=(x_test, y_test))\n",
        "\n",
        "test_loss, test_accuracy=model.evaluate(x_test, y_test)\n",
        "print(\"Test Loss:\", test_loss)\n",
        "print(\"Test Accuracy:\", test_accuracy)\n"
      ]
    }
  ]
}