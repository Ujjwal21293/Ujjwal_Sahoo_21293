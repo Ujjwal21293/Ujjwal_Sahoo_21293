{
  "nbformat": 4,
  "nbformat_minor": 0,
  "metadata": {
    "colab": {
      "provenance": []
    },
    "kernelspec": {
      "name": "python3",
      "display_name": "Python 3"
    },
    "language_info": {
      "name": "python"
    }
  },
  "cells": [
    {
      "cell_type": "code",
      "source": [
        "import torch\n",
        "import torch.nn as nn\n",
        "import torch.optim as optim\n",
        "import torchvision\n",
        "from torchvision import transforms\n",
        "from torch.utils.data import DataLoader\n",
        "from sklearn.metrics import accuracy_score\n",
        "\n",
        "transform = transforms.Compose([\n",
        "    transforms.Resize((32, 32)),\n",
        "    transforms.ToTensor(),\n",
        "    transforms.Normalize((0.5, 0.5, 0.5), (0.5, 0.5, 0.5))\n",
        "])\n",
        "\n",
        "train_dataset = torchvision.datasets.SVHN(root='./data', split='train', download=True, transform=transform)\n",
        "test_dataset = torchvision.datasets.SVHN(root='./data', split='test', download=True, transform=transform)\n",
        "\n",
        "train_dataset = torch.utils.data.Subset(train_dataset, range(0, len(train_dataset)//4))\n",
        "test_dataset = torch.utils.data.Subset(test_dataset, range(0, len(test_dataset)//4))\n",
        "\n",
        "train_loader = DataLoader(train_dataset, batch_size=64, shuffle=True)\n",
        "test_loader = DataLoader(test_dataset, batch_size=64, shuffle=False)\n",
        "\n",
        "models = {\n",
        "    \"LeNet-5\": torchvision.models.googlenet(pretrained=True),\n",
        "    \"VGG\": torchvision.models.vgg11(pretrained=True),\n",
        "    \"ResNet18\": torchvision.models.resnet18(pretrained=True),\n",
        "    \"ResNet50\": torchvision.models.resnet50(pretrained=True),\n",
        "    \"ResNet101\": torchvision.models.resnet101(pretrained=True),\n",
        "    \"AlexNet\": torchvision.models.alexnet(pretrained=True)\n",
        "}\n",
        "\n",
        "for model_name, model in models.items():\n",
        "    if isinstance(model, torchvision.models.AlexNet):\n",
        "        num_ftrs = model.classifier[6].in_features\n",
        "        model.classifier[6] = nn.Linear(num_ftrs, 10)\n",
        "    elif isinstance(model, torchvision.models.VGG):\n",
        "        num_ftrs = model.classifier[6].in_features\n",
        "        model.classifier[6] = nn.Linear(num_ftrs, 10)\n",
        "    else:\n",
        "        num_ftrs = model.fc.in_features\n",
        "        model.fc = nn.Linear(num_ftrs, 10)\n",
        "\n",
        "def train(model, train_loader, test_loader, epochs=1):\n",
        "    criterion = nn.CrossEntropyLoss()\n",
        "    optimizer = optim.SGD(model.parameters(), lr=0.001, momentum=0.9)\n",
        "\n",
        "    for epoch in range(epochs):\n",
        "        model.train()\n",
        "        running_loss = 0.0\n",
        "        for inputs, labels in train_loader:\n",
        "            optimizer.zero_grad()\n",
        "            outputs = model(inputs)\n",
        "            loss = criterion(outputs, labels)\n",
        "            loss.backward()\n",
        "            optimizer.step()\n",
        "            running_loss += loss.item()\n",
        "\n",
        "        print(f\"Epoch {epoch+1}/{epochs}, Loss: {running_loss/len(train_loader)}\")\n",
        "\n",
        "        model.eval()\n",
        "        correct = 0\n",
        "        total = 0\n",
        "        with torch.no_grad():\n",
        "            for inputs, labels in test_loader:\n",
        "                outputs = model(inputs)\n",
        "                _, predicted = torch.max(outputs, 1)\n",
        "                total += labels.size(0)\n",
        "                correct += (predicted == labels).sum().item()\n",
        "\n",
        "        accuracy = correct / total\n",
        "        print(f\"Accuracy on test set: {accuracy}\")\n",
        "\n",
        "for model_name, model in models.items():\n",
        "    print(f\"\\nTraining {model_name}\")\n",
        "    train(model, train_loader, test_loader)\n"
      ],
      "metadata": {
        "colab": {
          "base_uri": "https://localhost:8080/"
        },
        "id": "Ed4bssVNtUxU",
        "outputId": "8507c1f1-5bc1-48be-bc93-868aaf00246a"
      },
      "execution_count": null,
      "outputs": [
        {
          "output_type": "stream",
          "name": "stdout",
          "text": [
            "Using downloaded and verified file: ./data/train_32x32.mat\n",
            "Using downloaded and verified file: ./data/test_32x32.mat\n",
            "\n",
            "Training LeNet-5\n",
            "Epoch 1/1, Loss: 1.9775714762119465\n",
            "Accuracy on test set: 0.46711739397664415\n",
            "\n",
            "Training VGG\n",
            "Epoch 1/1, Loss: 1.1054078442294424\n",
            "Accuracy on test set: 0.8116164720344192\n",
            "\n",
            "Training ResNet18\n",
            "Epoch 1/1, Loss: 1.4150035256708124\n",
            "Accuracy on test set: 0.7323294406883836\n",
            "\n",
            "Training ResNet50\n"
          ]
        }
      ]
    }
  ]
}